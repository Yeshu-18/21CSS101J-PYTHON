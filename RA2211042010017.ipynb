{
  "nbformat": 4,
  "nbformat_minor": 0,
  "metadata": {
    "colab": {
      "provenance": [],
      "authorship_tag": "ABX9TyNjxGQye0D5nRz1tz7qW4y9",
      "include_colab_link": true
    },
    "kernelspec": {
      "name": "python3",
      "display_name": "Python 3"
    },
    "language_info": {
      "name": "python"
    }
  },
  "cells": [
    {
      "cell_type": "markdown",
      "metadata": {
        "id": "view-in-github",
        "colab_type": "text"
      },
      "source": [
        "<a href=\"https://colab.research.google.com/github/Yeshu-18/21CSS101J-PYTHON/blob/main/RA2211042010017.ipynb\" target=\"_parent\"><img src=\"https://colab.research.google.com/assets/colab-badge.svg\" alt=\"Open In Colab\"/></a>"
      ]
    },
    {
      "cell_type": "markdown",
      "source": [
        "PRINT HELLO WORLD"
      ],
      "metadata": {
        "id": "gDB5F-GDN2VQ"
      }
    },
    {
      "cell_type": "code",
      "execution_count": 5,
      "metadata": {
        "id": "RUGt9qM-KUQJ",
        "outputId": "0b61abfd-6072-462d-e6f2-7ffca56bbaad",
        "colab": {
          "base_uri": "https://localhost:8080/"
        }
      },
      "outputs": [
        {
          "output_type": "stream",
          "name": "stdout",
          "text": [
            "Hello world\n"
          ]
        }
      ],
      "source": [
        "print('Hello world')"
      ]
    },
    {
      "cell_type": "markdown",
      "source": [
        "PRINTING MY BIO"
      ],
      "metadata": {
        "id": "ctrNuVLJNuNv"
      }
    },
    {
      "cell_type": "code",
      "source": [
        "print('Hi everyone, my name is Yeshwanth Raghavendar. I am studying in SRM B.TECH-CSBS.')"
      ],
      "metadata": {
        "colab": {
          "base_uri": "https://localhost:8080/"
        },
        "id": "PTYWP8YOMJEx",
        "outputId": "ef8a8973-e8c2-4636-ba2f-47b5908107f8"
      },
      "execution_count": null,
      "outputs": [
        {
          "output_type": "stream",
          "name": "stdout",
          "text": [
            "Hi everyone, my name is Yeshwanth Raghavendar. I am studying in SRM B.TECH-CSBS.\n"
          ]
        }
      ]
    },
    {
      "cell_type": "markdown",
      "source": [
        "SUM OF TWO NUMBERS"
      ],
      "metadata": {
        "id": "dYsYLNL8OAnr"
      }
    },
    {
      "cell_type": "code",
      "source": [
        "89+43"
      ],
      "metadata": {
        "id": "kkFzzkC5NBcm",
        "colab": {
          "base_uri": "https://localhost:8080/"
        },
        "outputId": "140e728c-1cb9-4d7f-dc8b-4c261baf8446"
      },
      "execution_count": 2,
      "outputs": [
        {
          "output_type": "execute_result",
          "data": {
            "text/plain": [
              "132"
            ]
          },
          "metadata": {},
          "execution_count": 2
        }
      ]
    },
    {
      "cell_type": "markdown",
      "source": [
        "SUBTRACTION OF TWO NUMBERS"
      ],
      "metadata": {
        "id": "xbLzFS1EOD-g"
      }
    },
    {
      "cell_type": "code",
      "source": [
        "234-234"
      ],
      "metadata": {
        "colab": {
          "base_uri": "https://localhost:8080/"
        },
        "id": "SDhRcdReNfhp",
        "outputId": "def05788-920c-4a5d-e6a3-e60640d91cc5"
      },
      "execution_count": 3,
      "outputs": [
        {
          "output_type": "execute_result",
          "data": {
            "text/plain": [
              "0"
            ]
          },
          "metadata": {},
          "execution_count": 3
        }
      ]
    },
    {
      "cell_type": "markdown",
      "source": [
        "SUBTRACTION OF TWO NUMBERS"
      ],
      "metadata": {
        "id": "cBc77WRcOIgZ"
      }
    },
    {
      "cell_type": "code",
      "source": [
        "234-9823"
      ],
      "metadata": {
        "colab": {
          "base_uri": "https://localhost:8080/"
        },
        "id": "lHmalLYzNinP",
        "outputId": "7d6c308e-4bef-4fcf-a49f-af1df58ad789"
      },
      "execution_count": 4,
      "outputs": [
        {
          "output_type": "execute_result",
          "data": {
            "text/plain": [
              "-9589"
            ]
          },
          "metadata": {},
          "execution_count": 4
        }
      ]
    },
    {
      "cell_type": "markdown",
      "source": [
        "MULTIPLICATION OF TWO NUMBERS"
      ],
      "metadata": {
        "id": "a6CJuSuQONb2"
      }
    },
    {
      "cell_type": "code",
      "source": [
        "324*234"
      ],
      "metadata": {
        "colab": {
          "base_uri": "https://localhost:8080/"
        },
        "id": "lUuf3W2FNkls",
        "outputId": "a022d2f9-c4a9-4d5f-d5a0-89ae2d0ca2be"
      },
      "execution_count": 6,
      "outputs": [
        {
          "output_type": "execute_result",
          "data": {
            "text/plain": [
              "75816"
            ]
          },
          "metadata": {},
          "execution_count": 6
        }
      ]
    },
    {
      "cell_type": "markdown",
      "source": [
        "DIVISION OF TWO NUMBERS "
      ],
      "metadata": {
        "id": "3aN6XWlOOSz_"
      }
    },
    {
      "cell_type": "code",
      "source": [
        "234/45"
      ],
      "metadata": {
        "colab": {
          "base_uri": "https://localhost:8080/"
        },
        "id": "4Ijvqz54OU95",
        "outputId": "138e3028-ff07-431c-c6b9-153380e588f0"
      },
      "execution_count": 7,
      "outputs": [
        {
          "output_type": "execute_result",
          "data": {
            "text/plain": [
              "5.2"
            ]
          },
          "metadata": {},
          "execution_count": 7
        }
      ]
    },
    {
      "cell_type": "markdown",
      "source": [
        "DIVISION OF TWO NUMBERS"
      ],
      "metadata": {
        "id": "9IUHyMjsOZH0"
      }
    },
    {
      "cell_type": "code",
      "source": [
        "324/23324"
      ],
      "metadata": {
        "colab": {
          "base_uri": "https://localhost:8080/"
        },
        "id": "Q8DIt1JlOb6a",
        "outputId": "9936f8c0-4da7-41d1-bf6a-aa78ef5c25b0"
      },
      "execution_count": 9,
      "outputs": [
        {
          "output_type": "execute_result",
          "data": {
            "text/plain": [
              "0.013891270794031898"
            ]
          },
          "metadata": {},
          "execution_count": 9
        }
      ]
    },
    {
      "cell_type": "markdown",
      "source": [
        "DIVISION OF TWO NUMBERS"
      ],
      "metadata": {
        "id": "-OB3GTKBOpCY"
      }
    },
    {
      "cell_type": "code",
      "source": [
        "234/-324"
      ],
      "metadata": {
        "colab": {
          "base_uri": "https://localhost:8080/"
        },
        "id": "Whpd2WUJOsJk",
        "outputId": "fad932b4-fc34-434b-ed82-021f6d44e1e0"
      },
      "execution_count": 10,
      "outputs": [
        {
          "output_type": "execute_result",
          "data": {
            "text/plain": [
              "-0.7222222222222222"
            ]
          },
          "metadata": {},
          "execution_count": 10
        }
      ]
    },
    {
      "cell_type": "markdown",
      "source": [
        "DIVISION OF TWO NUMBERS"
      ],
      "metadata": {
        "id": "GdRDi26FOvWN"
      }
    },
    {
      "cell_type": "code",
      "source": [
        "-234/43"
      ],
      "metadata": {
        "colab": {
          "base_uri": "https://localhost:8080/"
        },
        "id": "iXmDD3uXOx3E",
        "outputId": "1922b3e7-a01e-4fcf-a282-297cae4278a2"
      },
      "execution_count": 11,
      "outputs": [
        {
          "output_type": "execute_result",
          "data": {
            "text/plain": [
              "-5.441860465116279"
            ]
          },
          "metadata": {},
          "execution_count": 11
        }
      ]
    },
    {
      "cell_type": "markdown",
      "source": [
        "DIVISION OF TWO NUMBERS"
      ],
      "metadata": {
        "id": "6a60KWygO4eN"
      }
    },
    {
      "cell_type": "code",
      "source": [
        "0/-234"
      ],
      "metadata": {
        "colab": {
          "base_uri": "https://localhost:8080/"
        },
        "id": "lg94aOsiO5xX",
        "outputId": "cbe9a7c9-8683-4182-aed5-7c5ba9a638d7"
      },
      "execution_count": 13,
      "outputs": [
        {
          "output_type": "execute_result",
          "data": {
            "text/plain": [
              "-0.0"
            ]
          },
          "metadata": {},
          "execution_count": 13
        }
      ]
    },
    {
      "cell_type": "markdown",
      "source": [
        "DIVISION OF TWO NUMBERS"
      ],
      "metadata": {
        "id": "rPVylg8OPFiO"
      }
    },
    {
      "cell_type": "code",
      "source": [
        "-0/234"
      ],
      "metadata": {
        "colab": {
          "base_uri": "https://localhost:8080/"
        },
        "id": "l_YbN6EuPMBk",
        "outputId": "0b33ce68-39dc-460e-ec20-f0c9961af8ff"
      },
      "execution_count": 14,
      "outputs": [
        {
          "output_type": "execute_result",
          "data": {
            "text/plain": [
              "0.0"
            ]
          },
          "metadata": {},
          "execution_count": 14
        }
      ]
    },
    {
      "cell_type": "markdown",
      "source": [
        "REMAINDER OF TWO NUMBERS"
      ],
      "metadata": {
        "id": "yrMxLh4YPo_T"
      }
    },
    {
      "cell_type": "code",
      "source": [
        "234%78"
      ],
      "metadata": {
        "colab": {
          "base_uri": "https://localhost:8080/"
        },
        "id": "xThDII9gPtK5",
        "outputId": "3a023e20-ded2-4120-a005-fe075ed27650"
      },
      "execution_count": 15,
      "outputs": [
        {
          "output_type": "execute_result",
          "data": {
            "text/plain": [
              "0"
            ]
          },
          "metadata": {},
          "execution_count": 15
        }
      ]
    },
    {
      "cell_type": "markdown",
      "source": [
        "REMAINDER OF TWO NUMBERS"
      ],
      "metadata": {
        "id": "pQCiwQtiQCTs"
      }
    },
    {
      "cell_type": "code",
      "source": [
        "34%243"
      ],
      "metadata": {
        "colab": {
          "base_uri": "https://localhost:8080/"
        },
        "id": "oX9SqUPhP9O2",
        "outputId": "bdaecd8d-6a91-45d7-f2cb-2536209eb42e"
      },
      "execution_count": 16,
      "outputs": [
        {
          "output_type": "execute_result",
          "data": {
            "text/plain": [
              "34"
            ]
          },
          "metadata": {},
          "execution_count": 16
        }
      ]
    },
    {
      "cell_type": "markdown",
      "source": [
        "REMAINDER OF TWO NUMBERS"
      ],
      "metadata": {
        "id": "cLKyfYNyP64L"
      }
    },
    {
      "cell_type": "code",
      "source": [
        "-23%12"
      ],
      "metadata": {
        "colab": {
          "base_uri": "https://localhost:8080/"
        },
        "id": "SSX1LRbfQEw5",
        "outputId": "f6a5eab4-49d0-4987-f27a-b8304519f5ea"
      },
      "execution_count": 17,
      "outputs": [
        {
          "output_type": "execute_result",
          "data": {
            "text/plain": [
              "1"
            ]
          },
          "metadata": {},
          "execution_count": 17
        }
      ]
    },
    {
      "cell_type": "markdown",
      "source": [
        "REMAINDER OF TWO NUMBERS"
      ],
      "metadata": {
        "id": "AVKFS_RaQN4G"
      }
    },
    {
      "cell_type": "code",
      "source": [
        "0%76"
      ],
      "metadata": {
        "colab": {
          "base_uri": "https://localhost:8080/"
        },
        "id": "Y5kSvc-MQQIh",
        "outputId": "b21f68dd-9aa8-4bbf-9253-c7244f0ec4a4"
      },
      "execution_count": 18,
      "outputs": [
        {
          "output_type": "execute_result",
          "data": {
            "text/plain": [
              "0"
            ]
          },
          "metadata": {},
          "execution_count": 18
        }
      ]
    },
    {
      "cell_type": "markdown",
      "source": [
        "REMAINDER OF TWO NUMBERS"
      ],
      "metadata": {
        "id": "xR6Imr4oQpx7"
      }
    },
    {
      "cell_type": "code",
      "source": [
        "234%-56"
      ],
      "metadata": {
        "colab": {
          "base_uri": "https://localhost:8080/"
        },
        "id": "49iQ8BJxQVPt",
        "outputId": "08a15daf-821a-4bf2-c117-e93db3dea809"
      },
      "execution_count": 19,
      "outputs": [
        {
          "output_type": "execute_result",
          "data": {
            "text/plain": [
              "-46"
            ]
          },
          "metadata": {},
          "execution_count": 19
        }
      ]
    },
    {
      "cell_type": "markdown",
      "source": [
        "DIVISION OF TWO NUMBERS (INTEGER AS OUTPUT)"
      ],
      "metadata": {
        "id": "vti3HugdRFfP"
      }
    },
    {
      "cell_type": "code",
      "source": [
        "7998//67"
      ],
      "metadata": {
        "colab": {
          "base_uri": "https://localhost:8080/"
        },
        "id": "gVk7Gf9qQ_Ia",
        "outputId": "f6e1744e-7c82-413d-9d6d-fcda5905cada"
      },
      "execution_count": 20,
      "outputs": [
        {
          "output_type": "execute_result",
          "data": {
            "text/plain": [
              "119"
            ]
          },
          "metadata": {},
          "execution_count": 20
        }
      ]
    },
    {
      "cell_type": "markdown",
      "source": [
        "COMBINATION OF OPERATORS"
      ],
      "metadata": {
        "id": "ne8GlANrRZ8u"
      }
    },
    {
      "cell_type": "code",
      "source": [
        "23+87-10"
      ],
      "metadata": {
        "colab": {
          "base_uri": "https://localhost:8080/"
        },
        "id": "U5CaMIbLRb2f",
        "outputId": "8a8a40e1-caee-44ff-a970-b6be24e9a2b6"
      },
      "execution_count": 21,
      "outputs": [
        {
          "output_type": "execute_result",
          "data": {
            "text/plain": [
              "100"
            ]
          },
          "metadata": {},
          "execution_count": 21
        }
      ]
    },
    {
      "cell_type": "markdown",
      "source": [
        "COMBINATION OF OPERATORS"
      ],
      "metadata": {
        "id": "eCAr52m0Rg4u"
      }
    },
    {
      "cell_type": "code",
      "source": [
        "2*3+90"
      ],
      "metadata": {
        "colab": {
          "base_uri": "https://localhost:8080/"
        },
        "id": "7cFW6Qv5Rnf1",
        "outputId": "31300035-40fa-41be-b950-e8994b365d6f"
      },
      "execution_count": 23,
      "outputs": [
        {
          "output_type": "execute_result",
          "data": {
            "text/plain": [
              "96"
            ]
          },
          "metadata": {},
          "execution_count": 23
        }
      ]
    },
    {
      "cell_type": "markdown",
      "source": [
        "COMBINATION OF OPERATORS"
      ],
      "metadata": {
        "id": "tVQcAQzAR4Oz"
      }
    },
    {
      "cell_type": "code",
      "source": [
        "2*(3+90)"
      ],
      "metadata": {
        "colab": {
          "base_uri": "https://localhost:8080/"
        },
        "id": "ygilmRZXR6rX",
        "outputId": "74ee94ed-0d03-4097-d076-0588ea259ae0"
      },
      "execution_count": 24,
      "outputs": [
        {
          "output_type": "execute_result",
          "data": {
            "text/plain": [
              "186"
            ]
          },
          "metadata": {},
          "execution_count": 24
        }
      ]
    },
    {
      "cell_type": "markdown",
      "source": [
        "COMBINATION OF OPERATORS"
      ],
      "metadata": {
        "id": "mnEMlnj-SEev"
      }
    },
    {
      "cell_type": "code",
      "source": [
        "(2*3)+90"
      ],
      "metadata": {
        "colab": {
          "base_uri": "https://localhost:8080/"
        },
        "id": "mtUdtWdtSI6I",
        "outputId": "332be5f9-4b12-4952-abe6-b49ab04ab231"
      },
      "execution_count": 25,
      "outputs": [
        {
          "output_type": "execute_result",
          "data": {
            "text/plain": [
              "96"
            ]
          },
          "metadata": {},
          "execution_count": 25
        }
      ]
    },
    {
      "cell_type": "markdown",
      "source": [
        "COMBINATION OF OPERATORS"
      ],
      "metadata": {
        "id": "nostuFc3SN_O"
      }
    },
    {
      "cell_type": "code",
      "source": [
        "(2*3)-9+(9*1)"
      ],
      "metadata": {
        "colab": {
          "base_uri": "https://localhost:8080/"
        },
        "id": "oiBkiqxFSQdO",
        "outputId": "8e9fa0f0-d8c1-4c74-fa89-d6875e70e056"
      },
      "execution_count": 26,
      "outputs": [
        {
          "output_type": "execute_result",
          "data": {
            "text/plain": [
              "6"
            ]
          },
          "metadata": {},
          "execution_count": 26
        }
      ]
    },
    {
      "cell_type": "markdown",
      "source": [
        "COMBINATION OF OPERATORS"
      ],
      "metadata": {
        "id": "E7XMvHk-SeH4"
      }
    },
    {
      "cell_type": "code",
      "source": [
        "2*(3-9)+9*1"
      ],
      "metadata": {
        "colab": {
          "base_uri": "https://localhost:8080/"
        },
        "id": "OCXF95VhShZO",
        "outputId": "71818cee-58b2-4c84-ceaf-52732b3acffe"
      },
      "execution_count": 27,
      "outputs": [
        {
          "output_type": "execute_result",
          "data": {
            "text/plain": [
              "-3"
            ]
          },
          "metadata": {},
          "execution_count": 27
        }
      ]
    },
    {
      "cell_type": "markdown",
      "source": [
        "COMBINATION OF OPERATORS"
      ],
      "metadata": {
        "id": "yztLfT-kSoht"
      }
    },
    {
      "cell_type": "code",
      "source": [
        "(2*3)-(9+9)*1"
      ],
      "metadata": {
        "colab": {
          "base_uri": "https://localhost:8080/"
        },
        "id": "nzQamkQASrh2",
        "outputId": "36a6c406-b259-4399-e198-5ad1d9edfc79"
      },
      "execution_count": 28,
      "outputs": [
        {
          "output_type": "execute_result",
          "data": {
            "text/plain": [
              "-12"
            ]
          },
          "metadata": {},
          "execution_count": 28
        }
      ]
    },
    {
      "cell_type": "markdown",
      "source": [
        "ASSIGNING VARIABLES"
      ],
      "metadata": {
        "id": "x_uhBMwXTAA9"
      }
    },
    {
      "cell_type": "code",
      "source": [
        "x=234\n",
        "print(x)"
      ],
      "metadata": {
        "colab": {
          "base_uri": "https://localhost:8080/"
        },
        "id": "nW8HLVr2TCav",
        "outputId": "b8d32bc2-6b9f-4e9e-932b-89605a1805d8"
      },
      "execution_count": 29,
      "outputs": [
        {
          "output_type": "stream",
          "name": "stdout",
          "text": [
            "234\n"
          ]
        }
      ]
    },
    {
      "cell_type": "markdown",
      "source": [
        "ASSIGNING VARIABLES"
      ],
      "metadata": {
        "id": "zuP91DgtTbO1"
      }
    },
    {
      "cell_type": "code",
      "source": [
        "a=90\n",
        "b='HI'\n",
        "c=a+9\n",
        "print('a=',a,'b=',b,'c=',c)"
      ],
      "metadata": {
        "colab": {
          "base_uri": "https://localhost:8080/"
        },
        "id": "uGsCJHWpTeGo",
        "outputId": "361c4cbf-4f5e-419d-c9fd-9f39c905bad8"
      },
      "execution_count": 33,
      "outputs": [
        {
          "output_type": "stream",
          "name": "stdout",
          "text": [
            "a= 90 b= HI c= 99\n"
          ]
        }
      ]
    },
    {
      "cell_type": "markdown",
      "source": [
        "PRINTING THE DATA TYPE OF THE VARIABLE"
      ],
      "metadata": {
        "id": "s30bnx4xT9d5"
      }
    },
    {
      "cell_type": "code",
      "source": [
        "x=80\n",
        "y='welcome'\n",
        "z=x+19\n",
        "a=234.98\n",
        "print('Data type of x = ',type(x))\n",
        "print('Data type of y = ',type(y))\n",
        "print('Data type of z = ',type(z))\n",
        "print('Data type of a = ',type(a))"
      ],
      "metadata": {
        "colab": {
          "base_uri": "https://localhost:8080/"
        },
        "id": "WRfFlGd4VfRw",
        "outputId": "eede4b0a-8f4b-40ed-81a0-a8211fbaf644"
      },
      "execution_count": 35,
      "outputs": [
        {
          "output_type": "stream",
          "name": "stdout",
          "text": [
            "Data type of x =  <class 'int'>\n",
            "Data type of y =  <class 'str'>\n",
            "Data type of z =  <class 'int'>\n",
            "Data type of a =  <class 'float'>\n"
          ]
        }
      ]
    },
    {
      "cell_type": "markdown",
      "source": [
        "CHANGING THE DATA TYPE"
      ],
      "metadata": {
        "id": "wux7sTAXWQil"
      }
    },
    {
      "cell_type": "code",
      "source": [
        "x=str(123)\n",
        "y=float(34)\n",
        "print(x,'and its type is = ',type(x),',',y,'and its type is = ',type(y))"
      ],
      "metadata": {
        "colab": {
          "base_uri": "https://localhost:8080/"
        },
        "id": "OwhtUnaIXNeD",
        "outputId": "71a4b5c0-2c10-456b-8a74-7841ba22ea91"
      },
      "execution_count": 40,
      "outputs": [
        {
          "output_type": "stream",
          "name": "stdout",
          "text": [
            "123 and its type is =  <class 'str'> , 34.0 and its type is =  <class 'float'>\n"
          ]
        }
      ]
    },
    {
      "cell_type": "markdown",
      "source": [
        "ASSIGNING MULTIPLE VALUES TO MULTIPLE VARIABLES"
      ],
      "metadata": {
        "id": "dv7eeutbYKZR"
      }
    },
    {
      "cell_type": "code",
      "source": [
        "a,b,c=23,'hi',34.89\n",
        "print('a = ',a,'b = ',b,'c = ',c)"
      ],
      "metadata": {
        "colab": {
          "base_uri": "https://localhost:8080/"
        },
        "id": "iMqz_Q8CYkEj",
        "outputId": "5e10d597-9465-4d21-d67f-010350c346f0"
      },
      "execution_count": 41,
      "outputs": [
        {
          "output_type": "stream",
          "name": "stdout",
          "text": [
            "a =  23 b =  hi c =  34.89\n"
          ]
        }
      ]
    },
    {
      "cell_type": "markdown",
      "source": [],
      "metadata": {
        "id": "yPdsqStCYv2t"
      }
    }
  ]
}